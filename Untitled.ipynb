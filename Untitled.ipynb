{
 "cells": [
  {
   "cell_type": "code",
   "execution_count": 1,
   "id": "2065ec93",
   "metadata": {},
   "outputs": [
    {
     "data": {
      "text/plain": [
       "['ucrania', 'regiones', 'ciudades', 'capitales', 'hidrografia']"
      ]
     },
     "execution_count": 1,
     "metadata": {},
     "output_type": "execute_result"
    }
   ],
   "source": [
    "import os\n",
    "os.environ['USE_PYGEOS'] = '0'\n",
    "\n",
    "import geopandas as gpd\n",
    "from fiona import listlayers\n",
    "\n",
    "#Este es el geopackage\n",
    "mapa_ucrania=\"https://github.com/Joaquin-TC/geodfprepro/raw/main/maps%20and%20data/UcraniaMapa.gpkg\"\n",
    "\n",
    "listlayers(mapa_ucrania)"
   ]
  },
  {
   "cell_type": "code",
   "execution_count": 3,
   "id": "05e35fb2",
   "metadata": {},
   "outputs": [],
   "source": [
    "ucrania=gpd.read_file(mapa_ucrania, layer=\"ucrania\")\n",
    "regiones=gpd.read_file(mapa_ucrania, layer=\"regiones\")\n",
    "ciudades=gpd.read_file(mapa_ucrania, layer=\"ciudades\")\n",
    "capitales=gpd.read_file(mapa_ucrania, layer=\"capitales\")\n",
    "hidrografia=gpd.read_file(mapa_ucrania, layer=\"hidrografia\")"
   ]
  },
  {
   "cell_type": "code",
   "execution_count": 4,
   "id": "8395bc05",
   "metadata": {},
   "outputs": [
    {
     "data": {
      "text/plain": [
       "True"
      ]
     },
     "execution_count": 4,
     "metadata": {},
     "output_type": "execute_result"
    }
   ],
   "source": [
    "#Verificamos que todos tengan el mismo CRS\n",
    "ucrania.crs.to_epsg()==regiones.crs.to_epsg()==ciudades.crs.to_epsg()==capitales.crs.to_epsg()==hidrografia.crs.to_epsg()"
   ]
  },
  {
   "cell_type": "code",
   "execution_count": 15,
   "id": "86082be1",
   "metadata": {},
   "outputs": [
    {
     "name": "stdout",
     "output_type": "stream",
     "text": [
      "<class 'geopandas.geodataframe.GeoDataFrame'>\n",
      "RangeIndex: 27 entries, 0 to 26\n",
      "Data columns (total 8 columns):\n",
      " #   Column      Non-Null Count  Dtype   \n",
      "---  ------      --------------  -----   \n",
      " 0   OBJECTID    27 non-null     int64   \n",
      " 1   Español     27 non-null     object  \n",
      " 2   UcrRomaniz  27 non-null     object  \n",
      " 3   Ucraniano   27 non-null     object  \n",
      " 4   Ruso        27 non-null     object  \n",
      " 5   UAH         27 non-null     int64   \n",
      " 6   Hryvnia     27 non-null     int64   \n",
      " 7   geometry    27 non-null     geometry\n",
      "dtypes: geometry(1), int64(3), object(4)\n",
      "memory usage: 1.8+ KB\n"
     ]
    }
   ],
   "source": [
    "#veremos las unidades de nuestro mapa\n",
    "regiones.i"
   ]
  },
  {
   "cell_type": "code",
   "execution_count": null,
   "id": "65b62241",
   "metadata": {},
   "outputs": [],
   "source": []
  },
  {
   "cell_type": "code",
   "execution_count": null,
   "id": "b3b211e4",
   "metadata": {},
   "outputs": [],
   "source": []
  },
  {
   "cell_type": "code",
   "execution_count": null,
   "id": "850c94ea",
   "metadata": {},
   "outputs": [],
   "source": []
  },
  {
   "cell_type": "code",
   "execution_count": null,
   "id": "c5c1191d",
   "metadata": {},
   "outputs": [],
   "source": []
  },
  {
   "cell_type": "code",
   "execution_count": null,
   "id": "704dc21d",
   "metadata": {},
   "outputs": [],
   "source": []
  }
 ],
 "metadata": {
  "kernelspec": {
   "display_name": "Python 3 (ipykernel)",
   "language": "python",
   "name": "python3"
  },
  "language_info": {
   "codemirror_mode": {
    "name": "ipython",
    "version": 3
   },
   "file_extension": ".py",
   "mimetype": "text/x-python",
   "name": "python",
   "nbconvert_exporter": "python",
   "pygments_lexer": "ipython3",
   "version": "3.10.10"
  }
 },
 "nbformat": 4,
 "nbformat_minor": 5
}
